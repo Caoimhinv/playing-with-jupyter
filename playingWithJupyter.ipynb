{
 "cells": [
  {
   "cell_type": "code",
   "execution_count": 1,
   "id": "4b1c46da-c7e8-4a3c-993a-295dfb8b2274",
   "metadata": {},
   "outputs": [],
   "source": [
    "i=1\n",
    "j=2"
   ]
  },
  {
   "cell_type": "code",
   "execution_count": 2,
   "id": "ecd96f01-6dc7-4e29-bb40-89873ae87cad",
   "metadata": {},
   "outputs": [],
   "source": [
    "k=i+j"
   ]
  },
  {
   "cell_type": "code",
   "execution_count": 3,
   "id": "bc5a9794-af24-4a54-b605-8138d7b7cb74",
   "metadata": {},
   "outputs": [
    {
     "data": {
      "text/plain": [
       "3"
      ]
     },
     "execution_count": 3,
     "metadata": {},
     "output_type": "execute_result"
    }
   ],
   "source": [
    "k"
   ]
  },
  {
   "cell_type": "markdown",
   "id": "0ce0ae3c-df7e-4a58-8cc2-89996720eb04",
   "metadata": {},
   "source": [
    "# I am a header\n",
    "\n",
    "- I am a list\n",
    "- I am a list\n",
    "- I am also a list\n",
    "\n",
    "![](https://posterstore.ie/images/zoom/6-19934.jpg)"
   ]
  },
  {
   "cell_type": "code",
   "execution_count": null,
   "id": "c1586a31-2436-4597-ab30-9a7991a93c66",
   "metadata": {},
   "outputs": [],
   "source": []
  }
 ],
 "metadata": {
  "kernelspec": {
   "display_name": "Python 3",
   "language": "python",
   "name": "python3"
  },
  "language_info": {
   "codemirror_mode": {
    "name": "ipython",
    "version": 3
   },
   "file_extension": ".py",
   "mimetype": "text/x-python",
   "name": "python",
   "nbconvert_exporter": "python",
   "pygments_lexer": "ipython3",
   "version": "3.8.8"
  }
 },
 "nbformat": 4,
 "nbformat_minor": 5
}
